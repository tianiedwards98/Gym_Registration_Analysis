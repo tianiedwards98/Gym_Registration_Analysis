{
 "cells": [
  {
   "cell_type": "code",
   "execution_count": 3,
   "id": "7deaf457",
   "metadata": {},
   "outputs": [],
   "source": [
    "#import libraries \n",
    "import pandas as pd\n",
    "import numpy as np\n",
    "import matplotlib.pyplot as plt\n",
    "from sklearn.linear_model import LinearRegression\n",
    "from sklearn.model_selection import train_test_split"
   ]
  },
  {
   "cell_type": "code",
   "execution_count": 4,
   "id": "3eb752ab",
   "metadata": {},
   "outputs": [],
   "source": [
    "# read csv\n",
    "movie_data = pd.read_csv(r'C:/Users/Melaney/Desktop/Movies_Analysis/Clean_Final_Data.csv', low_memory=False)"
   ]
  },
  {
   "cell_type": "code",
   "execution_count": 5,
   "id": "f89a5ec7",
   "metadata": {},
   "outputs": [
    {
     "data": {
      "text/html": [
       "<div>\n",
       "<style scoped>\n",
       "    .dataframe tbody tr th:only-of-type {\n",
       "        vertical-align: middle;\n",
       "    }\n",
       "\n",
       "    .dataframe tbody tr th {\n",
       "        vertical-align: top;\n",
       "    }\n",
       "\n",
       "    .dataframe thead th {\n",
       "        text-align: right;\n",
       "    }\n",
       "</style>\n",
       "<table border=\"1\" class=\"dataframe\">\n",
       "  <thead>\n",
       "    <tr style=\"text-align: right;\">\n",
       "      <th></th>\n",
       "      <th>Unnamed: 0</th>\n",
       "      <th>Id</th>\n",
       "      <th>Title</th>\n",
       "      <th>Budget</th>\n",
       "      <th>Revenue</th>\n",
       "      <th>Original Language</th>\n",
       "      <th>Popularity</th>\n",
       "      <th>Production Countries</th>\n",
       "      <th>Production Companies</th>\n",
       "      <th>Genre 1</th>\n",
       "      <th>Genre 2</th>\n",
       "      <th>Genre 3</th>\n",
       "      <th>Genre 4</th>\n",
       "      <th>Release Date</th>\n",
       "      <th>Runtime</th>\n",
       "      <th>Status</th>\n",
       "      <th>Tagline</th>\n",
       "      <th>Vote Average</th>\n",
       "      <th>Vote Count</th>\n",
       "    </tr>\n",
       "  </thead>\n",
       "  <tbody>\n",
       "    <tr>\n",
       "      <th>0</th>\n",
       "      <td>0</td>\n",
       "      <td>862</td>\n",
       "      <td>Toy Story</td>\n",
       "      <td>30000000.0</td>\n",
       "      <td>373554033.0</td>\n",
       "      <td>en</td>\n",
       "      <td>21.946943</td>\n",
       "      <td>United States of America</td>\n",
       "      <td>Pixar Animation Studios</td>\n",
       "      <td>Animation</td>\n",
       "      <td>Comedy</td>\n",
       "      <td>Family</td>\n",
       "      <td>NaN</td>\n",
       "      <td>10/30/1995</td>\n",
       "      <td>81.0</td>\n",
       "      <td>Released</td>\n",
       "      <td>NaN</td>\n",
       "      <td>7.7</td>\n",
       "      <td>5415</td>\n",
       "    </tr>\n",
       "    <tr>\n",
       "      <th>1</th>\n",
       "      <td>1</td>\n",
       "      <td>8844</td>\n",
       "      <td>Jumanji</td>\n",
       "      <td>65000000.0</td>\n",
       "      <td>262797249.0</td>\n",
       "      <td>en</td>\n",
       "      <td>17.015539</td>\n",
       "      <td>United States of America</td>\n",
       "      <td>TriStar Pictures</td>\n",
       "      <td>Adventure</td>\n",
       "      <td>Fantasy</td>\n",
       "      <td>Family</td>\n",
       "      <td>NaN</td>\n",
       "      <td>12/15/1995</td>\n",
       "      <td>104.0</td>\n",
       "      <td>Released</td>\n",
       "      <td>Roll the dice and unleash the excitement!</td>\n",
       "      <td>6.9</td>\n",
       "      <td>2413</td>\n",
       "    </tr>\n",
       "    <tr>\n",
       "      <th>2</th>\n",
       "      <td>2</td>\n",
       "      <td>31357</td>\n",
       "      <td>Waiting to Exhale</td>\n",
       "      <td>16000000.0</td>\n",
       "      <td>81452156.0</td>\n",
       "      <td>en</td>\n",
       "      <td>3.859495</td>\n",
       "      <td>United States of America</td>\n",
       "      <td>Twentieth Century Fox Film Corporation</td>\n",
       "      <td>Comedy</td>\n",
       "      <td>Drama</td>\n",
       "      <td>Romance</td>\n",
       "      <td>NaN</td>\n",
       "      <td>12/22/1995</td>\n",
       "      <td>127.0</td>\n",
       "      <td>Released</td>\n",
       "      <td>Friends are the people who let you be yourself...</td>\n",
       "      <td>6.1</td>\n",
       "      <td>34</td>\n",
       "    </tr>\n",
       "    <tr>\n",
       "      <th>3</th>\n",
       "      <td>3</td>\n",
       "      <td>949</td>\n",
       "      <td>Heat</td>\n",
       "      <td>60000000.0</td>\n",
       "      <td>187436818.0</td>\n",
       "      <td>en</td>\n",
       "      <td>17.924927</td>\n",
       "      <td>United States of America</td>\n",
       "      <td>Regency Enterprises</td>\n",
       "      <td>Action</td>\n",
       "      <td>Crime</td>\n",
       "      <td>Drama</td>\n",
       "      <td>Thriller</td>\n",
       "      <td>12/15/1995</td>\n",
       "      <td>170.0</td>\n",
       "      <td>Released</td>\n",
       "      <td>A Los Angeles Crime Saga</td>\n",
       "      <td>7.7</td>\n",
       "      <td>1886</td>\n",
       "    </tr>\n",
       "    <tr>\n",
       "      <th>4</th>\n",
       "      <td>4</td>\n",
       "      <td>9091</td>\n",
       "      <td>Sudden Death</td>\n",
       "      <td>35000000.0</td>\n",
       "      <td>64350171.0</td>\n",
       "      <td>en</td>\n",
       "      <td>5.231580</td>\n",
       "      <td>United States of America</td>\n",
       "      <td>Universal Pictures</td>\n",
       "      <td>Action</td>\n",
       "      <td>Adventure</td>\n",
       "      <td>Thriller</td>\n",
       "      <td>NaN</td>\n",
       "      <td>12/22/1995</td>\n",
       "      <td>106.0</td>\n",
       "      <td>Released</td>\n",
       "      <td>Terror goes into overtime.</td>\n",
       "      <td>5.5</td>\n",
       "      <td>174</td>\n",
       "    </tr>\n",
       "  </tbody>\n",
       "</table>\n",
       "</div>"
      ],
      "text/plain": [
       "   Unnamed: 0     Id              Title     Budget      Revenue   \\\n",
       "0           0    862          Toy Story  30000000.0  373554033.0   \n",
       "1           1   8844            Jumanji  65000000.0  262797249.0   \n",
       "2           2  31357  Waiting to Exhale  16000000.0   81452156.0   \n",
       "3           3    949               Heat  60000000.0  187436818.0   \n",
       "4           4   9091       Sudden Death  35000000.0   64350171.0   \n",
       "\n",
       "  Original Language  Popularity        Production Countries  \\\n",
       "0                en   21.946943    United States of America   \n",
       "1                en   17.015539    United States of America   \n",
       "2                en    3.859495    United States of America   \n",
       "3                en   17.924927    United States of America   \n",
       "4                en    5.231580    United States of America   \n",
       "\n",
       "                      Production Companies    Genre 1    Genre 2   Genre 3  \\\n",
       "0                  Pixar Animation Studios  Animation     Comedy    Family   \n",
       "1                         TriStar Pictures  Adventure    Fantasy    Family   \n",
       "2   Twentieth Century Fox Film Corporation     Comedy      Drama   Romance   \n",
       "3                      Regency Enterprises     Action      Crime     Drama   \n",
       "4                       Universal Pictures     Action  Adventure  Thriller   \n",
       "\n",
       "    Genre 4 Release Date  Runtime    Status  \\\n",
       "0       NaN   10/30/1995     81.0  Released   \n",
       "1       NaN   12/15/1995    104.0  Released   \n",
       "2       NaN   12/22/1995    127.0  Released   \n",
       "3  Thriller   12/15/1995    170.0  Released   \n",
       "4       NaN   12/22/1995    106.0  Released   \n",
       "\n",
       "                                             Tagline  Vote Average  Vote Count  \n",
       "0                                                NaN           7.7        5415  \n",
       "1          Roll the dice and unleash the excitement!           6.9        2413  \n",
       "2  Friends are the people who let you be yourself...           6.1          34  \n",
       "3                           A Los Angeles Crime Saga           7.7        1886  \n",
       "4                         Terror goes into overtime.           5.5         174  "
      ]
     },
     "execution_count": 5,
     "metadata": {},
     "output_type": "execute_result"
    }
   ],
   "source": [
    "movie_data.head(5)"
   ]
  },
  {
   "cell_type": "code",
   "execution_count": 6,
   "id": "ff969baf",
   "metadata": {},
   "outputs": [
    {
     "data": {
      "text/plain": [
       "Index(['Unnamed: 0', 'Id', 'Title', ' Budget ', ' Revenue ',\n",
       "       'Original Language', 'Popularity', 'Production Countries',\n",
       "       'Production Companies', 'Genre 1', 'Genre 2', 'Genre 3', 'Genre 4',\n",
       "       'Release Date', 'Runtime', 'Status', 'Tagline', 'Vote Average',\n",
       "       'Vote Count'],\n",
       "      dtype='object')"
      ]
     },
     "execution_count": 6,
     "metadata": {},
     "output_type": "execute_result"
    }
   ],
   "source": [
    "movie_data.columns"
   ]
  },
  {
   "cell_type": "code",
   "execution_count": 7,
   "id": "0c98152a",
   "metadata": {},
   "outputs": [],
   "source": [
    "#change budget column to a numeric value\n",
    "movie_data[[\" Budget \", \" Revenue \"]] = movie_data[[\" Budget \", \" Revenue \"]].apply(pd.to_numeric)"
   ]
  },
  {
   "cell_type": "code",
   "execution_count": 8,
   "id": "aa44dd7d",
   "metadata": {},
   "outputs": [],
   "source": [
    "#define x & y values \n",
    "x = movie_data[[' Budget ']]\n",
    "y = movie_data[['Vote Average']]"
   ]
  },
  {
   "cell_type": "code",
   "execution_count": 9,
   "id": "17471f4e",
   "metadata": {},
   "outputs": [],
   "source": [
    "#Split the data into Training and testing sets\n",
    "x_train, x_test, y_train, y_test = train_test_split(x, y, test_size=0.2)"
   ]
  },
  {
   "cell_type": "code",
   "execution_count": 10,
   "id": "df4ed408",
   "metadata": {
    "scrolled": true
   },
   "outputs": [
    {
     "data": {
      "text/plain": [
       "LinearRegression()"
      ]
     },
     "execution_count": 10,
     "metadata": {},
     "output_type": "execute_result"
    }
   ],
   "source": [
    "#train the model\n",
    "model = LinearRegression()\n",
    "model.fit(x_train, y_train)"
   ]
  },
  {
   "cell_type": "code",
   "execution_count": 11,
   "id": "8afb82cd",
   "metadata": {},
   "outputs": [
    {
     "data": {
      "text/plain": [
       "(5381, 1)"
      ]
     },
     "execution_count": 11,
     "metadata": {},
     "output_type": "execute_result"
    }
   ],
   "source": [
    "x.shape"
   ]
  },
  {
   "cell_type": "code",
   "execution_count": 12,
   "id": "bac3f365",
   "metadata": {},
   "outputs": [
    {
     "data": {
      "text/plain": [
       "(4304, 1)"
      ]
     },
     "execution_count": 12,
     "metadata": {},
     "output_type": "execute_result"
    }
   ],
   "source": [
    "x_train.shape"
   ]
  },
  {
   "cell_type": "code",
   "execution_count": 13,
   "id": "5e669773",
   "metadata": {},
   "outputs": [],
   "source": [
    "y_pred = model.predict(x_test)\n"
   ]
  },
  {
   "cell_type": "code",
   "execution_count": 14,
   "id": "a8925517",
   "metadata": {},
   "outputs": [
    {
     "name": "stdout",
     "output_type": "stream",
     "text": [
      "[[6.26834665]\n",
      " [6.26889692]\n",
      " [6.2707434 ]\n",
      " ...\n",
      " [6.26849339]\n",
      " [6.26952057]\n",
      " [6.26952057]]\n"
     ]
    }
   ],
   "source": [
    "print(y_pred)"
   ]
  },
  {
   "cell_type": "code",
   "execution_count": 15,
   "id": "22213dd1",
   "metadata": {},
   "outputs": [],
   "source": [
    "from sklearn import metrics \n"
   ]
  },
  {
   "cell_type": "code",
   "execution_count": 16,
   "id": "0d72bc64",
   "metadata": {},
   "outputs": [
    {
     "name": "stdout",
     "output_type": "stream",
     "text": [
      "0.8169133854692298\n"
     ]
    }
   ],
   "source": [
    "#prediction accuracy \n",
    "y_true = y_test\n",
    "y_pred = model.predict(x_test)\n",
    "print(metrics.mean_squared_error(y_true, y_pred))\n"
   ]
  },
  {
   "cell_type": "code",
   "execution_count": 20,
   "id": "049688a3",
   "metadata": {},
   "outputs": [
    {
     "name": "stdout",
     "output_type": "stream",
     "text": [
      "Predicted rating for a budget of 30000000 is 6.269765131482554\n"
     ]
    },
    {
     "name": "stderr",
     "output_type": "stream",
     "text": [
      "C:\\Users\\Melaney\\anaconda3\\envs\\PythonData\\lib\\site-packages\\sklearn\\base.py:451: UserWarning: X does not have valid feature names, but LinearRegression was fitted with feature names\n",
      "  \"X does not have valid feature names, but\"\n"
     ]
    }
   ],
   "source": [
    "#using the data to make a prediction \n",
    "budget_example = 30000000\n",
    "rating_prediction =  model.predict([[budget_example]])\n",
    "print(\"Predicted rating for a budget of\", budget_example, \"is\", rating_prediction[0][0])"
   ]
  },
  {
   "cell_type": "code",
   "execution_count": null,
   "id": "11a7f231",
   "metadata": {},
   "outputs": [],
   "source": []
  }
 ],
 "metadata": {
  "kernelspec": {
   "display_name": "Python 3 (ipykernel)",
   "language": "python",
   "name": "python3"
  },
  "language_info": {
   "codemirror_mode": {
    "name": "ipython",
    "version": 3
   },
   "file_extension": ".py",
   "mimetype": "text/x-python",
   "name": "python",
   "nbconvert_exporter": "python",
   "pygments_lexer": "ipython3",
   "version": "3.7.13"
  }
 },
 "nbformat": 4,
 "nbformat_minor": 5
}
