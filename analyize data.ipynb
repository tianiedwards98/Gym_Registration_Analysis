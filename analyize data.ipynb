{
 "cells": [
  {
   "cell_type": "code",
   "execution_count": 29,
   "id": "7deaf457",
   "metadata": {},
   "outputs": [],
   "source": [
    "#import libraries \n",
    "import pandas as pd\n",
    "import numpy as np\n",
    "import matplotlib.pyplot as plt\n",
    "from sklearn.linear_model import LinearRegression\n",
    "from sklearn.model_selection import train_test_split"
   ]
  },
  {
   "cell_type": "code",
   "execution_count": 42,
   "id": "3eb752ab",
   "metadata": {},
   "outputs": [],
   "source": [
    "# read csv\n",
    "movie_data = pd.read_csv(r'C:/Users/Melaney/Desktop/Movies_Analysis/Clean_Final_Data.csv', low_memory=False)"
   ]
  },
  {
   "cell_type": "code",
   "execution_count": 43,
   "id": "f89a5ec7",
   "metadata": {},
   "outputs": [
    {
     "data": {
      "text/html": [
       "<div>\n",
       "<style scoped>\n",
       "    .dataframe tbody tr th:only-of-type {\n",
       "        vertical-align: middle;\n",
       "    }\n",
       "\n",
       "    .dataframe tbody tr th {\n",
       "        vertical-align: top;\n",
       "    }\n",
       "\n",
       "    .dataframe thead th {\n",
       "        text-align: right;\n",
       "    }\n",
       "</style>\n",
       "<table border=\"1\" class=\"dataframe\">\n",
       "  <thead>\n",
       "    <tr style=\"text-align: right;\">\n",
       "      <th></th>\n",
       "      <th>Id</th>\n",
       "      <th>Title</th>\n",
       "      <th>Budget</th>\n",
       "      <th>Revenue</th>\n",
       "      <th>Original Language</th>\n",
       "      <th>Popularity</th>\n",
       "      <th>Production Countries</th>\n",
       "      <th>Production Companies</th>\n",
       "      <th>Genre 1</th>\n",
       "      <th>Genre 2</th>\n",
       "      <th>...</th>\n",
       "      <th>Status</th>\n",
       "      <th>Tagline</th>\n",
       "      <th>Vote Average</th>\n",
       "      <th>Vote Count</th>\n",
       "      <th>Unnamed: 18</th>\n",
       "      <th>Unnamed: 19</th>\n",
       "      <th>Unnamed: 20</th>\n",
       "      <th>Unnamed: 21</th>\n",
       "      <th>Unnamed: 22</th>\n",
       "      <th>Unnamed: 23</th>\n",
       "    </tr>\n",
       "  </thead>\n",
       "  <tbody>\n",
       "    <tr>\n",
       "      <th>0</th>\n",
       "      <td>862</td>\n",
       "      <td>Toy Story</td>\n",
       "      <td>30000000.0</td>\n",
       "      <td>373554033.0</td>\n",
       "      <td>en</td>\n",
       "      <td>21.946943</td>\n",
       "      <td>United States of America</td>\n",
       "      <td>Pixar Animation Studios</td>\n",
       "      <td>Animation</td>\n",
       "      <td>Comedy</td>\n",
       "      <td>...</td>\n",
       "      <td>Released</td>\n",
       "      <td>NaN</td>\n",
       "      <td>7.7</td>\n",
       "      <td>5415</td>\n",
       "      <td>NaN</td>\n",
       "      <td>NaN</td>\n",
       "      <td>NaN</td>\n",
       "      <td>NaN</td>\n",
       "      <td>NaN</td>\n",
       "      <td>NaN</td>\n",
       "    </tr>\n",
       "    <tr>\n",
       "      <th>1</th>\n",
       "      <td>8844</td>\n",
       "      <td>Jumanji</td>\n",
       "      <td>65000000.0</td>\n",
       "      <td>262797249.0</td>\n",
       "      <td>en</td>\n",
       "      <td>17.015539</td>\n",
       "      <td>United States of America</td>\n",
       "      <td>TriStar Pictures</td>\n",
       "      <td>Adventure</td>\n",
       "      <td>Fantasy</td>\n",
       "      <td>...</td>\n",
       "      <td>Released</td>\n",
       "      <td>Roll the dice and unleash the excitement!</td>\n",
       "      <td>6.9</td>\n",
       "      <td>2413</td>\n",
       "      <td>NaN</td>\n",
       "      <td>NaN</td>\n",
       "      <td>NaN</td>\n",
       "      <td>NaN</td>\n",
       "      <td>NaN</td>\n",
       "      <td>NaN</td>\n",
       "    </tr>\n",
       "    <tr>\n",
       "      <th>2</th>\n",
       "      <td>31357</td>\n",
       "      <td>Waiting to Exhale</td>\n",
       "      <td>16000000.0</td>\n",
       "      <td>81452156.0</td>\n",
       "      <td>en</td>\n",
       "      <td>3.859495</td>\n",
       "      <td>United States of America</td>\n",
       "      <td>Twentieth Century Fox Film Corporation</td>\n",
       "      <td>Comedy</td>\n",
       "      <td>Drama</td>\n",
       "      <td>...</td>\n",
       "      <td>Released</td>\n",
       "      <td>Friends are the people who let you be yourself...</td>\n",
       "      <td>6.1</td>\n",
       "      <td>34</td>\n",
       "      <td>NaN</td>\n",
       "      <td>NaN</td>\n",
       "      <td>NaN</td>\n",
       "      <td>NaN</td>\n",
       "      <td>NaN</td>\n",
       "      <td>NaN</td>\n",
       "    </tr>\n",
       "    <tr>\n",
       "      <th>3</th>\n",
       "      <td>949</td>\n",
       "      <td>Heat</td>\n",
       "      <td>60000000.0</td>\n",
       "      <td>187436818.0</td>\n",
       "      <td>en</td>\n",
       "      <td>17.924927</td>\n",
       "      <td>United States of America</td>\n",
       "      <td>Regency Enterprises</td>\n",
       "      <td>Action</td>\n",
       "      <td>Crime</td>\n",
       "      <td>...</td>\n",
       "      <td>Released</td>\n",
       "      <td>A Los Angeles Crime Saga</td>\n",
       "      <td>7.7</td>\n",
       "      <td>1886</td>\n",
       "      <td>NaN</td>\n",
       "      <td>NaN</td>\n",
       "      <td>NaN</td>\n",
       "      <td>NaN</td>\n",
       "      <td>NaN</td>\n",
       "      <td>NaN</td>\n",
       "    </tr>\n",
       "    <tr>\n",
       "      <th>4</th>\n",
       "      <td>9091</td>\n",
       "      <td>Sudden Death</td>\n",
       "      <td>35000000.0</td>\n",
       "      <td>64350171.0</td>\n",
       "      <td>en</td>\n",
       "      <td>5.231580</td>\n",
       "      <td>United States of America</td>\n",
       "      <td>Universal Pictures</td>\n",
       "      <td>Action</td>\n",
       "      <td>Adventure</td>\n",
       "      <td>...</td>\n",
       "      <td>Released</td>\n",
       "      <td>Terror goes into overtime.</td>\n",
       "      <td>5.5</td>\n",
       "      <td>174</td>\n",
       "      <td>NaN</td>\n",
       "      <td>NaN</td>\n",
       "      <td>NaN</td>\n",
       "      <td>NaN</td>\n",
       "      <td>NaN</td>\n",
       "      <td>NaN</td>\n",
       "    </tr>\n",
       "  </tbody>\n",
       "</table>\n",
       "<p>5 rows × 24 columns</p>\n",
       "</div>"
      ],
      "text/plain": [
       "      Id              Title     Budget      Revenue  Original Language  \\\n",
       "0    862          Toy Story  30000000.0  373554033.0                en   \n",
       "1   8844            Jumanji  65000000.0  262797249.0                en   \n",
       "2  31357  Waiting to Exhale  16000000.0   81452156.0                en   \n",
       "3    949               Heat  60000000.0  187436818.0                en   \n",
       "4   9091       Sudden Death  35000000.0   64350171.0                en   \n",
       "\n",
       "   Popularity        Production Countries  \\\n",
       "0   21.946943    United States of America   \n",
       "1   17.015539    United States of America   \n",
       "2    3.859495    United States of America   \n",
       "3   17.924927    United States of America   \n",
       "4    5.231580    United States of America   \n",
       "\n",
       "                      Production Companies    Genre 1    Genre 2  ...  \\\n",
       "0                  Pixar Animation Studios  Animation     Comedy  ...   \n",
       "1                         TriStar Pictures  Adventure    Fantasy  ...   \n",
       "2   Twentieth Century Fox Film Corporation     Comedy      Drama  ...   \n",
       "3                      Regency Enterprises     Action      Crime  ...   \n",
       "4                       Universal Pictures     Action  Adventure  ...   \n",
       "\n",
       "     Status                                            Tagline Vote Average  \\\n",
       "0  Released                                                NaN          7.7   \n",
       "1  Released          Roll the dice and unleash the excitement!          6.9   \n",
       "2  Released  Friends are the people who let you be yourself...          6.1   \n",
       "3  Released                           A Los Angeles Crime Saga          7.7   \n",
       "4  Released                         Terror goes into overtime.          5.5   \n",
       "\n",
       "   Vote Count Unnamed: 18 Unnamed: 19  Unnamed: 20  Unnamed: 21  Unnamed: 22  \\\n",
       "0        5415         NaN         NaN          NaN          NaN          NaN   \n",
       "1        2413         NaN         NaN          NaN          NaN          NaN   \n",
       "2          34         NaN         NaN          NaN          NaN          NaN   \n",
       "3        1886         NaN         NaN          NaN          NaN          NaN   \n",
       "4         174         NaN         NaN          NaN          NaN          NaN   \n",
       "\n",
       "   Unnamed: 23  \n",
       "0          NaN  \n",
       "1          NaN  \n",
       "2          NaN  \n",
       "3          NaN  \n",
       "4          NaN  \n",
       "\n",
       "[5 rows x 24 columns]"
      ]
     },
     "execution_count": 43,
     "metadata": {},
     "output_type": "execute_result"
    }
   ],
   "source": [
    "movie_data.head(5)"
   ]
  },
  {
   "cell_type": "code",
   "execution_count": 44,
   "id": "ff969baf",
   "metadata": {},
   "outputs": [
    {
     "data": {
      "text/plain": [
       "Index(['Id', 'Title', ' Budget ', ' Revenue ', 'Original Language',\n",
       "       'Popularity', 'Production Countries', 'Production Companies', 'Genre 1',\n",
       "       'Genre 2', 'Genre 3', 'Genre 4', 'Release Date', 'Runtime', 'Status',\n",
       "       'Tagline', 'Vote Average', 'Vote Count', 'Unnamed: 18', 'Unnamed: 19',\n",
       "       'Unnamed: 20', 'Unnamed: 21', 'Unnamed: 22', 'Unnamed: 23'],\n",
       "      dtype='object')"
      ]
     },
     "execution_count": 44,
     "metadata": {},
     "output_type": "execute_result"
    }
   ],
   "source": [
    "movie_data.columns"
   ]
  },
  {
   "cell_type": "code",
   "execution_count": 45,
   "id": "0c98152a",
   "metadata": {},
   "outputs": [],
   "source": [
    "#change budget column to a numeric value\n",
    "movie_data[[\" Budget \", \" Revenue \"]] = movie_data[[\" Budget \", \" Revenue \"]].apply(pd.to_numeric)"
   ]
  },
  {
   "cell_type": "code",
   "execution_count": 52,
   "id": "aa44dd7d",
   "metadata": {},
   "outputs": [],
   "source": [
    "#define x & y values \n",
    "x = movie_data[[' Budget ']]\n",
    "y = movie_data[['Vote Average']]"
   ]
  },
  {
   "cell_type": "code",
   "execution_count": 53,
   "id": "17471f4e",
   "metadata": {},
   "outputs": [],
   "source": [
    "#Split the data into Training and testing sets\n",
    "x_train, x_test, y_train, y_test = train_test_split(x, y, test_size=0.2)"
   ]
  },
  {
   "cell_type": "code",
   "execution_count": 54,
   "id": "df4ed408",
   "metadata": {
    "scrolled": true
   },
   "outputs": [
    {
     "data": {
      "text/plain": [
       "LinearRegression()"
      ]
     },
     "execution_count": 54,
     "metadata": {},
     "output_type": "execute_result"
    }
   ],
   "source": [
    "#train the model\n",
    "model = LinearRegression()\n",
    "model.fit(x_train, y_train)"
   ]
  },
  {
   "cell_type": "code",
   "execution_count": 49,
   "id": "8afb82cd",
   "metadata": {},
   "outputs": [
    {
     "data": {
      "text/plain": [
       "(5381,)"
      ]
     },
     "execution_count": 49,
     "metadata": {},
     "output_type": "execute_result"
    }
   ],
   "source": [
    "x.shape"
   ]
  },
  {
   "cell_type": "code",
   "execution_count": 51,
   "id": "bac3f365",
   "metadata": {},
   "outputs": [
    {
     "data": {
      "text/plain": [
       "(4304,)"
      ]
     },
     "execution_count": 51,
     "metadata": {},
     "output_type": "execute_result"
    }
   ],
   "source": [
    "x_train.shape"
   ]
  },
  {
   "cell_type": "code",
   "execution_count": 55,
   "id": "5e669773",
   "metadata": {},
   "outputs": [],
   "source": [
    "y_pred = model.predict(x_test)\n"
   ]
  },
  {
   "cell_type": "code",
   "execution_count": 56,
   "id": "a8925517",
   "metadata": {},
   "outputs": [
    {
     "name": "stdout",
     "output_type": "stream",
     "text": [
      "[[6.27933754]\n",
      " [6.28324158]\n",
      " [6.2796164 ]\n",
      " ...\n",
      " [6.28184728]\n",
      " [6.28435702]\n",
      " [6.27487578]]\n"
     ]
    }
   ],
   "source": [
    "print(y_pred)"
   ]
  },
  {
   "cell_type": "code",
   "execution_count": 58,
   "id": "22213dd1",
   "metadata": {},
   "outputs": [],
   "source": [
    "from sklearn import metrics \n"
   ]
  },
  {
   "cell_type": "code",
   "execution_count": 60,
   "id": "0d72bc64",
   "metadata": {},
   "outputs": [
    {
     "name": "stdout",
     "output_type": "stream",
     "text": [
      "0.7942872851336006\n"
     ]
    }
   ],
   "source": [
    "y_true = y_test\n",
    "y_pred = model.predict(x_test)\n",
    "print(metrics.mean_squared_error(y_true, y_pred))\n"
   ]
  },
  {
   "cell_type": "code",
   "execution_count": null,
   "id": "049688a3",
   "metadata": {},
   "outputs": [],
   "source": []
  }
 ],
 "metadata": {
  "kernelspec": {
   "display_name": "Python 3 (ipykernel)",
   "language": "python",
   "name": "python3"
  },
  "language_info": {
   "codemirror_mode": {
    "name": "ipython",
    "version": 3
   },
   "file_extension": ".py",
   "mimetype": "text/x-python",
   "name": "python",
   "nbconvert_exporter": "python",
   "pygments_lexer": "ipython3",
   "version": "3.7.13"
  }
 },
 "nbformat": 4,
 "nbformat_minor": 5
}
